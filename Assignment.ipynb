{
 "cells": [
  {
   "cell_type": "code",
   "execution_count": 2,
   "metadata": {},
   "outputs": [
    {
     "name": "stdout",
     "output_type": "stream",
     "text": [
      "The NUmber is Even\n"
     ]
    }
   ],
   "source": [
    "#WAP to chrck wether a number is even or odd\n",
    "a = int(input(\"Enter a Number: \"))\n",
    "if a%2 == 0:\n",
    "    print(\"The NUmber is Even\")\n",
    "else:\n",
    "    print(\"The Number is Odd\")"
   ]
  },
  {
   "cell_type": "code",
   "execution_count": 4,
   "metadata": {},
   "outputs": [
    {
     "name": "stdout",
     "output_type": "stream",
     "text": [
      "Wait for 2 years more\n"
     ]
    }
   ],
   "source": [
    "#WAP to check whether person is eligible for voting.\n",
    "age = int(input(\"Enter Age: \"))\n",
    "if age>=18:\n",
    "    print(\"You can vote\")\n",
    "else:\n",
    "    print(\"Wait for\",18 - age,\"years more\")"
   ]
  },
  {
   "cell_type": "code",
   "execution_count": null,
   "metadata": {},
   "outputs": [],
   "source": [
    "#WAP to enter a number between 1 to 7 as days of a week and print the day accordingly. (Monday, Tuesday ...) using if elif case.\n",
    "d = int(input(\"Enter day: \"))\n",
    "if d == 1:\n",
    "    print(\"Monday\")\n",
    "elif d == 2:\n",
    "    print(\"Tuesday\")\n",
    "elif d == 3:\n",
    "    print(\"Wednesday\")\n",
    "elif d == 4:\n",
    "    print(\"Thursday\")\n",
    "elif d == 5:\n",
    "    print(\"Friday\")\n",
    "elif d == 6:\n",
    "    print(\"Saturday\")\n",
    "elif d == 7:\n",
    "    print(\"Sunday\")\n",
    "else:\n",
    "    print(\"Invalid\")"
   ]
  },
  {
   "cell_type": "code",
   "execution_count": 5,
   "metadata": {},
   "outputs": [
    {
     "name": "stdout",
     "output_type": "stream",
     "text": [
      "Tuesday\n"
     ]
    }
   ],
   "source": [
    "#WAP to enter a number between 1 to 7 as days of a week and print the day accordingly. (Monday, Tuesday ...) using match case.\n",
    "d = int(input(\"Enter day: \"))\n",
    "match d:\n",
    "    case 1:\n",
    "        print(\"Monday\")\n",
    "    case 2:\n",
    "        print(\"Tuesday\")\n",
    "    case 3:\n",
    "        print(\"Wednesday\")\n",
    "    case 4:\n",
    "        print(\"THursday\")\n",
    "    case 5:\n",
    "        print('Friday')\n",
    "    case 6:\n",
    "        print(\"Saturday\")\n",
    "    case 7:\n",
    "        print(\"Sunday\")\n",
    "    case _:\n",
    "        print(\"Invalid\")"
   ]
  },
  {
   "cell_type": "code",
   "execution_count": 7,
   "metadata": {},
   "outputs": [
    {
     "name": "stdout",
     "output_type": "stream",
     "text": [
      "Its not a leap Year\n"
     ]
    }
   ],
   "source": [
    "#WAP to check whether a year is a leap year or not.\n",
    "y = int(input(\"Enter a Year: \"))\n",
    "if y%400 == 0:\n",
    "    print(\"Its a leap year\")\n",
    "else:\n",
    "    if y%4==0 and y%100 !=0:\n",
    "        print(\"Its a leap year\")\n",
    "    else:\n",
    "        print(\"Its not a leap Year\")\n"
   ]
  },
  {
   "cell_type": "code",
   "execution_count": null,
   "metadata": {},
   "outputs": [],
   "source": [
    "#WAP to Grade Students on the basis of average \n",
    "E = int(input(\"Enter the marks of English Subject: \"))\n",
    "P = int(input(\"Enter the marks of Physics Subject: \"))\n",
    "M = int(input(\"Enter the marks of MAths Subject: \"))\n",
    "C = int(input(\"Enter the marks of Chemsitry Subject: \"))\n",
    "Cs = int(input(\"Enter the marks of Computer Science Subject: \"))\n",
    "Avg = (E+P+M+C+Cs)/5\n",
    "if avg >= 90:\n",
    "    print(\"A Grade\")\n",
    "elif avg >= 80:\n",
    "    print(\"B Grade\")\n",
    "elif avg >=70:\n",
    "    print(\"C Grade\")\n",
    "elif avg >=60:\n",
    "    print(\"D Grade\")\n",
    "else:\n",
    "    print(\"Esssential Repeat\")\n"
   ]
  },
  {
   "cell_type": "code",
   "execution_count": null,
   "metadata": {},
   "outputs": [],
   "source": [
    "#WAP to input a character. Check whether the character is vowel or consonant.\n",
    "c = input(\"Enter an Alphabet: \")\n",
    "if c in 'aeiouAEIOU':\n",
    "    print(\"Its a vowel\")\n",
    "else:\n",
    "    print(\"Its a consonant\")"
   ]
  },
  {
   "cell_type": "code",
   "execution_count": 13,
   "metadata": {},
   "outputs": [
    {
     "name": "stdout",
     "output_type": "stream",
     "text": [
      "Not present\n"
     ]
    }
   ],
   "source": [
    "#WAP to search an element in a list\n",
    "l = [1,2,3,4,5,6,7,8,9]\n",
    "i = int(input(\"Enter a number: \"))\n",
    "for j in l:\n",
    "    if i==j:\n",
    "        print(\"Elemennt found\")\n",
    "        break\n",
    "else:\n",
    "    print(\"Not present\")"
   ]
  },
  {
   "cell_type": "code",
   "execution_count": null,
   "metadata": {},
   "outputs": [],
   "source": [
    "#WAP to search an element in a list [use for: else clause]\n",
    "l = [1,2,3,4,5,6,7,8,9]\n",
    "i = int(input(\"Enter an Element to be searched: \"))\n",
    "for j in l:\n",
    "    if i==j:\n",
    "        print(\"Element is present\")\n",
    "        break\n",
    "else:\n",
    "    print(\"Element not found\")"
   ]
  },
  {
   "cell_type": "code",
   "execution_count": 1,
   "metadata": {},
   "outputs": [
    {
     "ename": "SyntaxError",
     "evalue": "incomplete input (1523379940.py, line 22)",
     "output_type": "error",
     "traceback": [
      "\u001b[0;36m  Cell \u001b[0;32mIn[1], line 22\u001b[0;36m\u001b[0m\n\u001b[0;31m    elif i==9:\u001b[0m\n\u001b[0m              ^\u001b[0m\n\u001b[0;31mSyntaxError\u001b[0m\u001b[0;31m:\u001b[0m incomplete input\n"
     ]
    }
   ],
   "source": [
    "#Wrie a program to take a single digit number from the key board and print its spelling in English wordt using if elif.\n",
    "i = int(input(\"enter a number: \"))\n",
    "if i>9:\n",
    "    print(\"invalid\")\n",
    "else:\n",
    "    if i==1:\n",
    "        print(\"One\")\n",
    "    elif i==2:\n",
    "        print(\"Two\")\n",
    "    elif i==3:\n",
    "        print(\"Three\")\n",
    "    elif i==4:\n",
    "        print(\"Four\")\n",
    "    elif i==5:\n",
    "        print(\"Five\")\n",
    "    elif i==6:\n",
    "        print(\"Six\")\n",
    "    elif i==7:\n",
    "        print(\"Seven\")\n",
    "    elif i==8:\n",
    "        print(\"Eight\")\n",
    "    else:\n",
    "        print(\"Nine\")"
   ]
  },
  {
   "cell_type": "code",
   "execution_count": 5,
   "metadata": {},
   "outputs": [
    {
     "name": "stdout",
     "output_type": "stream",
     "text": [
      "1 2 3\n"
     ]
    }
   ],
   "source": [
    "#WAP to input three numbers and arrange them in ascending numbers.\n",
    "import math\n",
    "a = int(input(\"Enter 1st Number: \"))\n",
    "b = int(input(\"Enter 2nd Number: \"))\n",
    "c = int(input(\"Enter 3rd Number: \"))\n",
    "if a<b<c:\n",
    "    print(a,b,c)\n",
    "elif b<c<a:\n",
    "    print(b,c,a)\n",
    "elif c<a<b:\n",
    "    print(c,a,b)\n",
    "elif c<b<a:\n",
    "    print(c,b,a)"
   ]
  },
  {
   "cell_type": "code",
   "execution_count": null,
   "metadata": {},
   "outputs": [],
   "source": [
    "#Wrie a program to take a single digit number from the key board and print its spelling in English wordt using match-case\n",
    "d = int(input(\"Enter a Single Digit Number: \"))\n",
    "match d:\n",
    "    case 1:\n",
    "        print(\"One\")\n",
    "    case 2:\n",
    "        print(\"Two\")\n",
    "    case 3:\n",
    "        print(\"Three\")\n",
    "    case 4:\n",
    "        print(\"Four\")\n",
    "    case 5:\n",
    "        print(\"Five\")\n",
    "    case 6:\n",
    "        print(\"Six\")\n",
    "    case 7:\n",
    "        print(\"Seven\")\n",
    "    case 8:\n",
    "        print(\"Eight\")\n",
    "    case 9:\n",
    "        print(\"Nine\")\n",
    "    case _:\n",
    "        print(\"Invalid\")\n",
    "        \n",
    "        "
   ]
  },
  {
   "cell_type": "code",
   "execution_count": null,
   "metadata": {},
   "outputs": [],
   "source": [
    "#WAP to read two numbers and arithmetic operator [+,-,*,/,%] perform the operation and display the computed result. [Hint: use elif statement]\n",
    "a = int(input(\"Enter a number: \"))\n",
    "b = int(input(\"Enter another number: \"))\n",
    "\n",
    "o = input(\"Enter what to do(Add/Sub/Mul/Div): \")\n",
    "\n",
    "if o == \"Add\" or o = \"add\":\n",
    "    print(a+b)\n",
    "elif o == \"Sub\" or o == \"sub\":\n",
    "    print(a-b)\n",
    "elif o == \"mul\" or o == \"Mul\":\n",
    "    print(a*b)\n",
    "elif o == \"div\" or o == \"Div\":\n",
    "    print(a/b)\n",
    "else:\n",
    "    print(\"error\")   "
   ]
  },
  {
   "cell_type": "code",
   "execution_count": null,
   "metadata": {},
   "outputs": [],
   "source": [
    "#WAP to check whether a inputted character is uppercase or lowercase or digit or any other character.\n",
    "\n",
    "a = input(\"Enter any Character: \")\n",
    "if a is upper():\n",
    "    print(\"Its a capital Character\")\n",
    "elif a is lower():\n",
    "    print(\"Its a small alphabet\")\n",
    "elif a is float():\n",
    "    print(\"Its a Decimal Integer\")\n",
    "elif a is int():\n",
    "    print(\"Its an Integer\")\n"
   ]
  },
  {
   "cell_type": "code",
   "execution_count": 8,
   "metadata": {},
   "outputs": [
    {
     "name": "stdout",
     "output_type": "stream",
     "text": [
      "Oops,try again\n",
      "Hint: The number is 7 smaller than 10 \n",
      "Correct!!\n"
     ]
    }
   ],
   "source": [
    "#Develop a number guessing game using loops and conditional statements. Ask user to guess a secret number. If user has not guessed correct number, provide him/her hint.\n",
    "\n",
    "import random\n",
    "a = random.randint(0,9)\n",
    "guesser = True\n",
    "while guesser == True:\n",
    "    b = int(input(\"Enter a number to guess: \"))\n",
    "    if b==a:\n",
    "        print(\"Correct!!\")\n",
    "        guesser = False\n",
    "    else:\n",
    "        print(\"Oops,try again\")\n",
    "        print(f\"Hint: The number is {10-a} smaller than 10 \")\n",
    "        guesser = True\n",
    "        \n",
    "    \n",
    "    "
   ]
  },
  {
   "cell_type": "code",
   "execution_count": null,
   "metadata": {},
   "outputs": [],
   "source": []
  },
  {
   "cell_type": "code",
   "execution_count": 13,
   "metadata": {},
   "outputs": [
    {
     "name": "stdout",
     "output_type": "stream",
     "text": [
      "Unlocked\n"
     ]
    }
   ],
   "source": [
    "#WAP to prompt user to enter name and password until it enters \"stud\" in name and \"pass\" in password. Allow only five attempts.\n",
    "l = 5\n",
    "while l > 0:\n",
    "    n = input(\"Enter a name: \")\n",
    "    p = input(\"Enter a pass: \")\n",
    "    if n == \"stud\" and p == \"pass\":\n",
    "        print(\"Unlocked\")\n",
    "        break\n",
    "    else:\n",
    "        print(\"Try again\")\n",
    "        l -= 1\n",
    "else:\n",
    "    print(\"Tries finished\")"
   ]
  },
  {
   "cell_type": "code",
   "execution_count": 21,
   "metadata": {},
   "outputs": [
    {
     "name": "stdout",
     "output_type": "stream",
     "text": [
      "15>14>13>12>11>10>9>8>7>6>5>4>3>2>1>"
     ]
    }
   ],
   "source": [
    "l = 15\n",
    "while l>=1:\n",
    "    print(l, end = ('>'))\n",
    "    l -= 1"
   ]
  },
  {
   "cell_type": "code",
   "execution_count": 22,
   "metadata": {},
   "outputs": [
    {
     "name": "stdout",
     "output_type": "stream",
     "text": [
      "20045\n"
     ]
    }
   ],
   "source": [
    "sum = 0\n",
    "for i in range(11,201):\n",
    "    sum += i\n",
    "print(sum)"
   ]
  },
  {
   "cell_type": "code",
   "execution_count": 23,
   "metadata": {},
   "outputs": [
    {
     "name": "stdout",
     "output_type": "stream",
     "text": [
      "110\n",
      "1620\n"
     ]
    }
   ],
   "source": [
    "sum1 = 0\n",
    "for i in range(5,16):\n",
    "    sum1 += i\n",
    "print(sum1)\n",
    "\n",
    "sum2 = 0\n",
    "for j in range(21,61):\n",
    "    sum2 += j\n",
    "print(sum2)"
   ]
  },
  {
   "cell_type": "code",
   "execution_count": 24,
   "metadata": {},
   "outputs": [
    {
     "name": "stdout",
     "output_type": "stream",
     "text": [
      "5\n",
      "7\n",
      "9\n",
      "11\n",
      "13\n",
      "15\n",
      "17\n",
      "19\n",
      "21\n",
      "23\n",
      "25\n",
      "27\n",
      "29\n"
     ]
    }
   ],
   "source": [
    "for i in range(5,31):\n",
    "    if i%2 != 0:\n",
    "        print(i)"
   ]
  },
  {
   "cell_type": "code",
   "execution_count": 29,
   "metadata": {},
   "outputs": [
    {
     "name": "stdout",
     "output_type": "stream",
     "text": [
      "1\n",
      "\n"
     ]
    }
   ],
   "source": [
    "i = int(input(\"Enter a number\"))\n",
    "a = i\n",
    "f = 1\n",
    "while i>0:\n",
    "    f *= i\n",
    "    i -= 1\n",
    "else:\n",
    "    print(f)\n",
    "print()    "
   ]
  },
  {
   "cell_type": "code",
   "execution_count": 60,
   "metadata": {},
   "outputs": [
    {
     "name": "stdout",
     "output_type": "stream",
     "text": [
      "6\n"
     ]
    }
   ],
   "source": [
    "a = int(input(\"Enter a number(in atleast 2 digits): \"))\n",
    "s = str(a)\n",
    "sum = 0\n",
    "for i in range(0,len(s)):\n",
    "    sum += int(s[i])\n",
    "print(sum)"
   ]
  },
  {
   "cell_type": "code",
   "execution_count": null,
   "metadata": {},
   "outputs": [],
   "source": [
    "sum = 0\n",
    "for i in range(30,51):\n",
    "    if i%2 == 0:\n",
    "        sum += i\n",
    "print(sum)"
   ]
  },
  {
   "cell_type": "code",
   "execution_count": null,
   "metadata": {},
   "outputs": [],
   "source": [
    "i = int(input(\"Enter a number\"))\n",
    "for j in range(1,10):\n",
    "    print(i*j)\n"
   ]
  },
  {
   "cell_type": "code",
   "execution_count": 57,
   "metadata": {},
   "outputs": [
    {
     "name": "stdout",
     "output_type": "stream",
     "text": [
      "1\n",
      "22\n",
      "333\n",
      "4444\n"
     ]
    }
   ],
   "source": [
    "a = int(input(\"Enter Rows: \"))\n",
    "for i in range(1,a+1):\n",
    "    print(str(i)*(a-(a-i)))"
   ]
  },
  {
   "cell_type": "code",
   "execution_count": 68,
   "metadata": {},
   "outputs": [
    {
     "name": "stdout",
     "output_type": "stream",
     "text": [
      "*\n",
      "**\n",
      "***\n",
      "***\n",
      "**\n",
      "*\n",
      "\n"
     ]
    }
   ],
   "source": [
    "a = int(input(\"Enter Rows in half: \"))\n",
    "i = 1\n",
    "while i<=a:\n",
    "    print(\"*\"*i)\n",
    "    i += 1\n",
    "else:\n",
    "    while i>0:\n",
    "        print(\"*\"*(i-1))\n",
    "        i -= 1\n",
    "    "
   ]
  },
  {
   "cell_type": "code",
   "execution_count": 70,
   "metadata": {},
   "outputs": [
    {
     "name": "stdout",
     "output_type": "stream",
     "text": [
      "A\n",
      "BB\n",
      "CCC\n"
     ]
    }
   ],
   "source": [
    "l = [\"A\",\"B\",\"C\"]\n",
    "for i in range(0,3):\n",
    "    print(l[i]*(i+1))"
   ]
  },
  {
   "cell_type": "code",
   "execution_count": 82,
   "metadata": {},
   "outputs": [
    {
     "name": "stdout",
     "output_type": "stream",
     "text": [
      "153\n",
      "Its an Armstrong Number\n"
     ]
    }
   ],
   "source": [
    "n = int(input(\"Enter a Number: \"))\n",
    "s = str(n)\n",
    "an = 0\n",
    "for i in s:\n",
    "    an += pow(int(i),len(s))\n",
    "if an == n:\n",
    "    print(\"Its an Armstrong Number\")\n",
    "else:\n",
    "    print(\"Its not an Armstrong Number\")"
   ]
  },
  {
   "cell_type": "code",
   "execution_count": 84,
   "metadata": {},
   "outputs": [
    {
     "data": {
      "text/plain": [
       "10"
      ]
     },
     "execution_count": 84,
     "metadata": {},
     "output_type": "execute_result"
    }
   ],
   "source": [
    "def fs(n):\n",
    "    if n == 1:\n",
    "        return n\n",
    "    else:\n",
    "        return n*fs(n-1)\n",
    "a = int(input(\"Enter a number for its Fibonnacci Series: \"))\n",
    "fs(a)"
   ]
  },
  {
   "cell_type": "code",
   "execution_count": 87,
   "metadata": {},
   "outputs": [
    {
     "data": {
      "text/plain": [
       "'Its not Prime'"
      ]
     },
     "execution_count": 87,
     "metadata": {},
     "output_type": "execute_result"
    }
   ],
   "source": [
    "def prime(n):\n",
    "    if(n==1):\n",
    "        return \"Its Prime\"\n",
    "    elif(n==2):\n",
    "        return \"Its Prime\"\n",
    "    else:\n",
    "        for x in range(2,n+1):\n",
    "            if (n%x == 0):\n",
    "                return \"Its not Prime\"\n",
    "            return \"Its Prime\"\n",
    "i = int(input(\"Enter a Number: \"))\n",
    "prime(i)"
   ]
  },
  {
   "cell_type": "code",
   "execution_count": null,
   "metadata": {},
   "outputs": [],
   "source": [
    "arr = ('i', [1, 2, 3, 4, 5])\n",
    "\n",
    "numbers = arr[1]\n",
    "total_sum = sum(numbers)\n",
    "average = total_sum / len(numbers)\n",
    "\n",
    "print(f\"Sum: {total_sum}\")\n",
    "print(f\"Average: {average}\")"
   ]
  },
  {
   "cell_type": "code",
   "execution_count": null,
   "metadata": {},
   "outputs": [],
   "source": [
    "# Function to reverse an array\n",
    "def reverse_array(arr):\n",
    "    return arr[::-1]\n",
    "\n",
    "arr = [1, 2, 3, 4, 5]\n",
    "reversed_arr = reverse_array(arr)\n",
    "\n",
    "print(\"Original array:\", arr)\n",
    "print(\"Reversed array:\", reversed_arr)"
   ]
  },
  {
   "cell_type": "code",
   "execution_count": null,
   "metadata": {},
   "outputs": [],
   "source": [
    "# Function to remove duplicates from an array\n",
    "def remove_duplicates(arr):\n",
    "    return list(set(arr))\n",
    "\n",
    "arr = [1, 2, 3, 4, 2, 3, 5, 6, 5]\n",
    "unique_arr = remove_duplicates(arr)\n",
    "\n",
    "print(\"Original array:\", arr)\n",
    "print(\"Array with duplicates removed:\", unique_arr)"
   ]
  },
  {
   "cell_type": "code",
   "execution_count": null,
   "metadata": {},
   "outputs": [],
   "source": [
    "# Function to reverse a string\n",
    "def reverse_string(s):\n",
    "    return s[::-1]\n",
    "\n",
    "input_string = input(\"Enter a string: \")\n",
    "reversed_string = reverse_string(input_string)\n",
    "\n",
    "print(\"Reversed string:\", reversed_string)"
   ]
  },
  {
   "cell_type": "code",
   "execution_count": null,
   "metadata": {},
   "outputs": [],
   "source": [
    "# Function to count vowels in a string\n",
    "def count_vowels(s):\n",
    "    vowels = \"aeiouAEIOU\"\n",
    "    count = 0\n",
    "    for char in s:\n",
    "        if char in vowels:\n",
    "            count += 1\n",
    "    return count\n",
    "\n",
    "input_string = input(\"Enter a string: \")\n",
    "vowel_count = count_vowels(input_string)\n",
    "\n",
    "print(\"Number of vowels:\", vowel_count)"
   ]
  },
  {
   "cell_type": "code",
   "execution_count": null,
   "metadata": {},
   "outputs": [],
   "source": [
    "# Function to check if a string is a palindrome\n",
    "def is_palindrome(s):\n",
    "    # Remove spaces and convert the string to lowercase\n",
    "    s = s.replace(\" \", \"\").lower()\n",
    "    return s == s[::-1]\n",
    "\n",
    "input_string = input(\"Enter a string: \")\n",
    "\n",
    "if is_palindrome(input_string):\n",
    "    print(f'\"{input_string}\" is a palindrome.')\n",
    "else:\n",
    "    print(f'\"{input_string}\" is not a palindrome.')"
   ]
  },
  {
   "cell_type": "code",
   "execution_count": null,
   "metadata": {},
   "outputs": [],
   "source": [
    "# Function to remove duplicate characters from a string\n",
    "def remove_duplicates(s):\n",
    "    result = []\n",
    "    for char in s:\n",
    "        if char not in result:\n",
    "            result.append(char)\n",
    "    return ''.join(result)\n",
    "\n",
    "input_string = input(\"Enter a string: \")\n",
    "unique_string = remove_duplicates(input_string)\n",
    "\n",
    "print(\"String with duplicates removed:\", unique_string)"
   ]
  },
  {
   "cell_type": "code",
   "execution_count": null,
   "metadata": {},
   "outputs": [],
   "source": [
    "def print_even_length_words(s):\n",
    "    words = s.split()  # Split the string into words\n",
    "    for word in words:\n",
    "        if len(word) % 2 == 0:\n",
    "            print(word)\n",
    "\n",
    "input_string = input(\"Enter a string: \")\n",
    "print(\"Even-length words:\")\n",
    "print_even_length_words(input_string)"
   ]
  },
  {
   "cell_type": "code",
   "execution_count": null,
   "metadata": {},
   "outputs": [],
   "source": [
    "def remove_spaces(s):\n",
    "    return ''.join(s.split())\n",
    "\n",
    "input_string = \"Python is very easy\"\n",
    "result = remove_spaces(input_string)\n",
    "\n",
    "print(\"String with spaces removed:\", result)"
   ]
  },
  {
   "cell_type": "code",
   "execution_count": null,
   "metadata": {},
   "outputs": [],
   "source": [
    "def ascii_to_string(ascii_list):\n",
    "    return ''.join(chr(value) for value in ascii_list)\n",
    "\n",
    "ascii_values = [65, 66, 67, 68, 69]\n",
    "result = ascii_to_string(ascii_values)\n",
    "\n",
    "print(\"Converted string:\", result)"
   ]
  },
  {
   "cell_type": "code",
   "execution_count": null,
   "metadata": {},
   "outputs": [],
   "source": [
    "i = input(\"Enter something\")\n",
    "for a in i:\n",
    "    print(a, end = \"-\")"
   ]
  }
 ],
 "metadata": {
  "kernelspec": {
   "display_name": "Python 3",
   "language": "python",
   "name": "python3"
  },
  "language_info": {
   "codemirror_mode": {
    "name": "ipython",
    "version": 3
   },
   "file_extension": ".py",
   "mimetype": "text/x-python",
   "name": "python",
   "nbconvert_exporter": "python",
   "pygments_lexer": "ipython3",
   "version": "3.11.9"
  }
 },
 "nbformat": 4,
 "nbformat_minor": 2
}
